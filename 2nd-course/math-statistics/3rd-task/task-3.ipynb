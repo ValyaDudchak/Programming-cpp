{
 "cells": [
  {
   "cell_type": "code",
   "execution_count": 1,
   "id": "128ba9cf-0484-4bd2-a59a-705d29bce473",
   "metadata": {
    "tags": []
   },
   "outputs": [],
   "source": [
    "import numpy as np\n",
    "import pandas as pd\n",
    "import matplotlib.pyplot as plt"
   ]
  },
  {
   "cell_type": "code",
   "execution_count": 2,
   "id": "f5381b56-fcb9-4738-b652-17cf3bd60503",
   "metadata": {
    "tags": []
   },
   "outputs": [
    {
     "data": {
      "text/html": [
       "<div>\n",
       "<style scoped>\n",
       "    .dataframe tbody tr th:only-of-type {\n",
       "        vertical-align: middle;\n",
       "    }\n",
       "\n",
       "    .dataframe tbody tr th {\n",
       "        vertical-align: top;\n",
       "    }\n",
       "\n",
       "    .dataframe thead th {\n",
       "        text-align: right;\n",
       "    }\n",
       "</style>\n",
       "<table border=\"1\" class=\"dataframe\">\n",
       "  <thead>\n",
       "    <tr style=\"text-align: right;\">\n",
       "      <th></th>\n",
       "      <th>0</th>\n",
       "      <th>0.5</th>\n",
       "      <th>1</th>\n",
       "      <th>1.5</th>\n",
       "      <th>2</th>\n",
       "      <th>2.5</th>\n",
       "      <th>3</th>\n",
       "    </tr>\n",
       "    <tr>\n",
       "      <th>Y</th>\n",
       "      <th></th>\n",
       "      <th></th>\n",
       "      <th></th>\n",
       "      <th></th>\n",
       "      <th></th>\n",
       "      <th></th>\n",
       "      <th></th>\n",
       "    </tr>\n",
       "  </thead>\n",
       "  <tbody>\n",
       "    <tr>\n",
       "      <th>5</th>\n",
       "      <td>3</td>\n",
       "      <td>18</td>\n",
       "      <td>2</td>\n",
       "      <td>3</td>\n",
       "      <td>0</td>\n",
       "      <td>0</td>\n",
       "      <td>0</td>\n",
       "    </tr>\n",
       "    <tr>\n",
       "      <th>25</th>\n",
       "      <td>2</td>\n",
       "      <td>1</td>\n",
       "      <td>10</td>\n",
       "      <td>5</td>\n",
       "      <td>0</td>\n",
       "      <td>0</td>\n",
       "      <td>0</td>\n",
       "    </tr>\n",
       "    <tr>\n",
       "      <th>40</th>\n",
       "      <td>0</td>\n",
       "      <td>0</td>\n",
       "      <td>0</td>\n",
       "      <td>7</td>\n",
       "      <td>0</td>\n",
       "      <td>0</td>\n",
       "      <td>0</td>\n",
       "    </tr>\n",
       "    <tr>\n",
       "      <th>55</th>\n",
       "      <td>0</td>\n",
       "      <td>0</td>\n",
       "      <td>0</td>\n",
       "      <td>0</td>\n",
       "      <td>10</td>\n",
       "      <td>0</td>\n",
       "      <td>0</td>\n",
       "    </tr>\n",
       "    <tr>\n",
       "      <th>70</th>\n",
       "      <td>0</td>\n",
       "      <td>0</td>\n",
       "      <td>0</td>\n",
       "      <td>0</td>\n",
       "      <td>1</td>\n",
       "      <td>10</td>\n",
       "      <td>0</td>\n",
       "    </tr>\n",
       "    <tr>\n",
       "      <th>100</th>\n",
       "      <td>0</td>\n",
       "      <td>0</td>\n",
       "      <td>0</td>\n",
       "      <td>0</td>\n",
       "      <td>0</td>\n",
       "      <td>0</td>\n",
       "      <td>35</td>\n",
       "    </tr>\n",
       "  </tbody>\n",
       "</table>\n",
       "</div>"
      ],
      "text/plain": [
       "     0  0.5   1  1.5   2  2.5   3\n",
       "Y                                \n",
       "5    3   18   2    3   0    0   0\n",
       "25   2    1  10    5   0    0   0\n",
       "40   0    0   0    7   0    0   0\n",
       "55   0    0   0    0  10    0   0\n",
       "70   0    0   0    0   1   10   0\n",
       "100  0    0   0    0   0    0  35"
      ]
     },
     "execution_count": 2,
     "metadata": {},
     "output_type": "execute_result"
    }
   ],
   "source": [
    "df = pd.read_csv(\"data.csv\").set_index('Y')\n",
    "df"
   ]
  },
  {
   "cell_type": "code",
   "execution_count": 3,
   "id": "5e89cbc8-0c18-4c84-8222-ef1b8094a8a4",
   "metadata": {
    "tags": []
   },
   "outputs": [
    {
     "data": {
      "text/html": [
       "<div>\n",
       "<style scoped>\n",
       "    .dataframe tbody tr th:only-of-type {\n",
       "        vertical-align: middle;\n",
       "    }\n",
       "\n",
       "    .dataframe tbody tr th {\n",
       "        vertical-align: top;\n",
       "    }\n",
       "\n",
       "    .dataframe thead th {\n",
       "        text-align: right;\n",
       "    }\n",
       "</style>\n",
       "<table border=\"1\" class=\"dataframe\">\n",
       "  <thead>\n",
       "    <tr style=\"text-align: right;\">\n",
       "      <th></th>\n",
       "      <th>xi</th>\n",
       "      <th>yi</th>\n",
       "    </tr>\n",
       "  </thead>\n",
       "  <tbody>\n",
       "    <tr>\n",
       "      <th>0</th>\n",
       "      <td>0.0</td>\n",
       "      <td>13.000000</td>\n",
       "    </tr>\n",
       "    <tr>\n",
       "      <th>1</th>\n",
       "      <td>0.5</td>\n",
       "      <td>6.052632</td>\n",
       "    </tr>\n",
       "    <tr>\n",
       "      <th>2</th>\n",
       "      <td>1.0</td>\n",
       "      <td>21.666667</td>\n",
       "    </tr>\n",
       "    <tr>\n",
       "      <th>3</th>\n",
       "      <td>1.5</td>\n",
       "      <td>28.000000</td>\n",
       "    </tr>\n",
       "    <tr>\n",
       "      <th>4</th>\n",
       "      <td>2.0</td>\n",
       "      <td>56.363636</td>\n",
       "    </tr>\n",
       "    <tr>\n",
       "      <th>5</th>\n",
       "      <td>2.5</td>\n",
       "      <td>70.000000</td>\n",
       "    </tr>\n",
       "    <tr>\n",
       "      <th>6</th>\n",
       "      <td>3.0</td>\n",
       "      <td>100.000000</td>\n",
       "    </tr>\n",
       "  </tbody>\n",
       "</table>\n",
       "</div>"
      ],
      "text/plain": [
       "    xi          yi\n",
       "0  0.0   13.000000\n",
       "1  0.5    6.052632\n",
       "2  1.0   21.666667\n",
       "3  1.5   28.000000\n",
       "4  2.0   56.363636\n",
       "5  2.5   70.000000\n",
       "6  3.0  100.000000"
      ]
     },
     "execution_count": 3,
     "metadata": {},
     "output_type": "execute_result"
    }
   ],
   "source": [
    "def conditional_averages_yxi(df):\n",
    "    yi = df.index\n",
    "    return df.apply(lambda x: sum(yi * x) / sum(x), axis = 0)\n",
    "\n",
    "y_avg = conditional_averages_yxi(df)\n",
    "\n",
    "xi = np.array(y_avg.index).astype(float)\n",
    "yi = np.array(y_avg.values).astype(float)\n",
    "\n",
    "pd.DataFrame({'xi': xi, 'yi': yi})"
   ]
  },
  {
   "cell_type": "code",
   "execution_count": 4,
   "id": "363e172c-4492-4c53-8dad-f903ae36f4d2",
   "metadata": {
    "tags": []
   },
   "outputs": [
    {
     "data": {
      "image/png": "[encoded data removed]",
      "text/plain": [
       "<Figure size 640x480 with 1 Axes>"
      ]
     },
     "metadata": {},
     "output_type": "display_data"
    }
   ],
   "source": [
    "plt.plot(xi, yi, label = \"Ф-я регресії\")\n",
    "plt.title(\"Поле кореляції\")\n",
    "plt.legend()\n",
    "plt.show()"
   ]
  },
  {
   "cell_type": "code",
   "execution_count": 5,
   "id": "389a5370-86ff-425f-9d0b-5f498ebe19ec",
   "metadata": {
    "tags": []
   },
   "outputs": [],
   "source": [
    "# Припускаємо, що кореляція - параболічна"
   ]
  },
  {
   "cell_type": "code",
   "execution_count": 6,
   "id": "3d0ee416-7c91-4bde-8e93-af0286276a47",
   "metadata": {
    "tags": []
   },
   "outputs": [
    {
     "name": "stdout",
     "output_type": "stream",
     "text": [
      "Рівняння параболічної кореляції: 9.624x^2 + 2.504x + 6.043\n"
     ]
    }
   ],
   "source": [
    "ni = np.array(df.sum(axis = 0))\n",
    "\n",
    "def calc_parabolic_coeffitients(xi, yi, ni):\n",
    "    n_x4 = sum(n * (x**4) for n, x in zip(ni, xi))\n",
    "    n_x3 = sum(n * (x**3) for n, x in zip(ni, xi))\n",
    "    n_x2 = sum(n * (x**2) for n, x in zip(ni, xi))\n",
    "    n_x = sum(n * x for n, x in zip(ni, xi))\n",
    "    n = sum(ni)\n",
    "\n",
    "    n_y_x2 = sum(n * y * (x**2) for n, x, y in zip(ni, xi, yi))\n",
    "    n_y_x = sum(n * y * x for n, x, y in zip(ni, xi, yi))\n",
    "    n_y = sum(n * y for n, y in zip(ni, yi))\n",
    "\n",
    "    A = np.array([\n",
    "        [n_x4, n_x3, n_x2, n_y_x2],\n",
    "        [n_x3, n_x2, n_x, n_y_x],\n",
    "        [n_x2, n_x, n, n_y]\n",
    "    ], dtype = float)\n",
    "    \n",
    "    n = len(A)\n",
    "    \n",
    "    # Прямий хід\n",
    "    for i in range(n):\n",
    "        # Пошук максимального елемента у стовпці для уникнення нуля на діагоналі\n",
    "        max_row = np.argmax(np.abs(A[i:n, i])) + i\n",
    "        A[[i, max_row]] = A[[max_row, i]]\n",
    "        \n",
    "        # Пряме виключення\n",
    "        for j in range(i+1, n):\n",
    "            ratio = A[j, i] / A[i, i]\n",
    "            A[j, i:] -= ratio * A[i, i:]\n",
    "    \n",
    "    # Зворотний хід\n",
    "    x = np.zeros(n)\n",
    "    for i in range(n-1, -1, -1):\n",
    "        x[i] = (A[i, -1] - np.dot(A[i, i+1:n], x[i+1:n])) / A[i, i]\n",
    "    \n",
    "    return x\n",
    "\n",
    "\n",
    "a, b, c = calc_parabolic_coeffitients(xi, yi, ni)\n",
    "\n",
    "print(f\"Рівняння параболічної кореляції: {a:.3f}x^2 + {b:.3f}x + {c:.3f}\")"
   ]
  },
  {
   "cell_type": "code",
   "execution_count": 8,
   "id": "41b0bbda-ab22-4fd1-9664-10d3675d2fef",
   "metadata": {
    "tags": []
   },
   "outputs": [
    {
     "data": {
      "image/png": "[encoded data removed]",
      "text/plain": [
       "<Figure size 640x480 with 1 Axes>"
      ]
     },
     "metadata": {},
     "output_type": "display_data"
    }
   ],
   "source": [
    "def f(x):\n",
    "    return a * x**2 + b * x + c\n",
    "    \n",
    "y_f = f(xi)\n",
    "\n",
    "plt.plot(xi, yi, label = \"Ф-я регресії\")\n",
    "plt.plot(xi, y_f, label = \"Параболічна кореляція\")\n",
    "\n",
    "plt.legend()\n",
    "\n",
    "plt.show()"
   ]
  },
  {
   "cell_type": "code",
   "execution_count": 9,
   "id": "33c4ae4e-c6fc-426e-ab9e-343015a8e4d9",
   "metadata": {
    "tags": []
   },
   "outputs": [],
   "source": [
    "n_ij = np.array(df)\n",
    "\n",
    "def dispersion(xi, yi, n_ij):\n",
    "    n = sum(sum(n_ij[i]) for i in range(len(n_ij)))\n",
    "\n",
    "    return sum([(yi[j] - f(xi[i])) ** 2 * n_ij[j][i] for j in range(len(yi)) for i in range(len(xi))]) / n\n",
    "\n",
    "disp = dispersion(xi, np.array(df.index), n_ij)"
   ]
  },
  {
   "cell_type": "code",
   "execution_count": 10,
   "id": "5a4f657d-2ae9-414b-9d13-a7a5c24f08ff",
   "metadata": {
    "tags": []
   },
   "outputs": [],
   "source": [
    "def squared_deviations_sum(xi, yi, ni):\n",
    "    return sum([(yi[i] - f(xi[i])) ** 2 * ni[i] for i in range(len(xi))])\n",
    "\n",
    "devs = squared_deviations_sum(xi, yi, ni)"
   ]
  },
  {
   "cell_type": "code",
   "execution_count": 11,
   "id": "4c91568a-9864-4c78-9f37-4dc7c211569b",
   "metadata": {
    "tags": []
   },
   "outputs": [
    {
     "name": "stdout",
     "output_type": "stream",
     "text": [
      "Значення дисперсії:  53.85861214642205\n",
      "Значення відхилення:  1392.7120100339841\n"
     ]
    }
   ],
   "source": [
    "print(f\"Значення дисперсії: \", disp)\n",
    "print(f\"Значення відхилення: \", devs)"
   ]
  },
  {
   "cell_type": "code",
   "execution_count": null,
   "id": "98068681-770c-47c7-9225-79cc1845200a",
   "metadata": {},
   "outputs": [],
   "source": []
  }
 ],
 "metadata": {
  "kernelspec": {
   "display_name": "Python 3 (ipykernel)",
   "language": "python",
   "name": "python3"
  },
  "language_info": {
   "codemirror_mode": {
    "name": "ipython",
    "version": 3
   },
   "file_extension": ".py",
   "mimetype": "text/x-python",
   "name": "python",
   "nbconvert_exporter": "python",
   "pygments_lexer": "ipython3",
   "version": "3.11.5"
  }
 },
 "nbformat": 4,
 "nbformat_minor": 5
}
