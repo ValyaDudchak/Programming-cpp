{
 "cells": [
  {
   "cell_type": "code",
   "execution_count": 1,
   "id": "cc08d9a6-f690-4607-aef2-7bb5dcc85245",
   "metadata": {
    "tags": []
   },
   "outputs": [],
   "source": [
    "import matplotlib.pyplot as plt\n",
    "import math\n",
    "from scipy.stats import chi2\n",
    "from scipy.integrate import quad\n",
    "from scipy.special import erf\n",
    "from scipy.stats import expon\n",
    "import numpy as np\n",
    "import pandas as pd"
   ]
  },
  {
   "cell_type": "code",
   "execution_count": 2,
   "id": "76a6dd83-7ec7-44e9-bf0c-2a62c0e1c3bb",
   "metadata": {
    "tags": []
   },
   "outputs": [],
   "source": [
    "# числові характеристики\n",
    "\n",
    "def deviation(df):\n",
    "    avg = x_average(df)\n",
    "    df_t = df.copy()\n",
    "    \n",
    "    df_t['dev'] = ((df_t['zi'] - avg) ** 2) * df_t['ni']\n",
    "    return df_t['dev'].sum()\n",
    "\n",
    "def variance(df): \n",
    "    return deviation(df) / (df['ni'].sum() - 1)\n",
    "\n",
    "def get_standart(df):\n",
    "    return variance(df) ** 0.5\n",
    "\n",
    "def count_zi(df):\n",
    "    df['zi'] = df['xi'].apply(lambda x: (x[1] + x[0]) / 2)\n",
    "    \n",
    "    return df\n",
    "\n",
    "def x_average(df):\n",
    "    df_t = df.copy()\n",
    "    df_t['avg'] = df_t['zi'] * df_t['ni']\n",
    "    return df_t['avg'].sum() / df_t['ni'].sum()\n",
    "\n",
    "def get_lambda(df):\n",
    "    return 1 / x_average(df)\n",
    "\n",
    "# round4 = lambda x: round(x, 4)"
   ]
  },
  {
   "cell_type": "code",
   "execution_count": 3,
   "id": "4b7c9789-1213-49c4-b8f6-ed454887ccde",
   "metadata": {
    "tags": []
   },
   "outputs": [],
   "source": [
    "# обчислити Х2 емпіричне та критичне\n",
    "\n",
    "def count_x2_empirical(df):\n",
    "    df_t = df.copy()\n",
    "    df_t['emp'] = (df_t['ni'] - df_t['ni'].sum() * df_t['pi']) ** 2 / (df_t['ni'].sum() * df_t['pi'])\n",
    "    return df_t['emp'].sum()\n",
    "\n",
    "def count_x2_critical(alpha, df):\n",
    "    return chi2.ppf(1 - alpha, df)"
   ]
  },
  {
   "cell_type": "code",
   "execution_count": 4,
   "id": "43d3a562-4939-4cf8-bc96-95154ca2bae9",
   "metadata": {
    "tags": []
   },
   "outputs": [],
   "source": [
    "def laplace_integral_function(x):\n",
    "    return erf(x / 2 ** 0.5) / 2"
   ]
  },
  {
   "cell_type": "code",
   "execution_count": 5,
   "id": "9bc69b68-7f33-427e-95d0-7f86df3d79d4",
   "metadata": {
    "tags": []
   },
   "outputs": [],
   "source": [
    "def parse_interval(x):\n",
    "    splitted = x.split('-')\n",
    "    return (float(splitted[0]), float(splitted[1]))"
   ]
  },
  {
   "cell_type": "code",
   "execution_count": 6,
   "id": "f6cfc6a4-16eb-4869-8967-691edc8529e1",
   "metadata": {
    "tags": []
   },
   "outputs": [
    {
     "name": "stdout",
     "output_type": "stream",
     "text": [
      "Вибірка:\n"
     ]
    },
    {
     "data": {
      "text/html": [
       "<div>\n",
       "<style scoped>\n",
       "    .dataframe tbody tr th:only-of-type {\n",
       "        vertical-align: middle;\n",
       "    }\n",
       "\n",
       "    .dataframe tbody tr th {\n",
       "        vertical-align: top;\n",
       "    }\n",
       "\n",
       "    .dataframe thead th {\n",
       "        text-align: right;\n",
       "    }\n",
       "</style>\n",
       "<table border=\"1\" class=\"dataframe\">\n",
       "  <thead>\n",
       "    <tr style=\"text-align: right;\">\n",
       "      <th></th>\n",
       "      <th>xi</th>\n",
       "      <th>ni</th>\n",
       "      <th>zi</th>\n",
       "    </tr>\n",
       "  </thead>\n",
       "  <tbody>\n",
       "    <tr>\n",
       "      <th>0</th>\n",
       "      <td>(170.0, 180.0)</td>\n",
       "      <td>4</td>\n",
       "      <td>175.0</td>\n",
       "    </tr>\n",
       "    <tr>\n",
       "      <th>1</th>\n",
       "      <td>(180.0, 190.0)</td>\n",
       "      <td>7</td>\n",
       "      <td>185.0</td>\n",
       "    </tr>\n",
       "    <tr>\n",
       "      <th>2</th>\n",
       "      <td>(190.0, 200.0)</td>\n",
       "      <td>28</td>\n",
       "      <td>195.0</td>\n",
       "    </tr>\n",
       "    <tr>\n",
       "      <th>3</th>\n",
       "      <td>(200.0, 210.0)</td>\n",
       "      <td>56</td>\n",
       "      <td>205.0</td>\n",
       "    </tr>\n",
       "    <tr>\n",
       "      <th>4</th>\n",
       "      <td>(210.0, 220.0)</td>\n",
       "      <td>70</td>\n",
       "      <td>215.0</td>\n",
       "    </tr>\n",
       "    <tr>\n",
       "      <th>5</th>\n",
       "      <td>(220.0, 230.0)</td>\n",
       "      <td>60</td>\n",
       "      <td>225.0</td>\n",
       "    </tr>\n",
       "    <tr>\n",
       "      <th>6</th>\n",
       "      <td>(230.0, 240.0)</td>\n",
       "      <td>52</td>\n",
       "      <td>235.0</td>\n",
       "    </tr>\n",
       "    <tr>\n",
       "      <th>7</th>\n",
       "      <td>(240.0, 250.0)</td>\n",
       "      <td>26</td>\n",
       "      <td>245.0</td>\n",
       "    </tr>\n",
       "    <tr>\n",
       "      <th>8</th>\n",
       "      <td>(250.0, 260.0)</td>\n",
       "      <td>10</td>\n",
       "      <td>255.0</td>\n",
       "    </tr>\n",
       "    <tr>\n",
       "      <th>9</th>\n",
       "      <td>(260.0, 270.0)</td>\n",
       "      <td>6</td>\n",
       "      <td>265.0</td>\n",
       "    </tr>\n",
       "  </tbody>\n",
       "</table>\n",
       "</div>"
      ],
      "text/plain": [
       "               xi  ni     zi\n",
       "0  (170.0, 180.0)   4  175.0\n",
       "1  (180.0, 190.0)   7  185.0\n",
       "2  (190.0, 200.0)  28  195.0\n",
       "3  (200.0, 210.0)  56  205.0\n",
       "4  (210.0, 220.0)  70  215.0\n",
       "5  (220.0, 230.0)  60  225.0\n",
       "6  (230.0, 240.0)  52  235.0\n",
       "7  (240.0, 250.0)  26  245.0\n",
       "8  (250.0, 260.0)  10  255.0\n",
       "9  (260.0, 270.0)   6  265.0"
      ]
     },
     "execution_count": 6,
     "metadata": {},
     "output_type": "execute_result"
    }
   ],
   "source": [
    "# Задача 1\n",
    "\n",
    "df = pd.read_csv('task1.csv')\n",
    "df.iloc[:, 0] = df.iloc[:, 0].apply(parse_interval)\n",
    "\n",
    "df = count_zi(df)\n",
    "print(\"Вибірка:\")\n",
    "df"
   ]
  },
  {
   "cell_type": "code",
   "execution_count": 7,
   "id": "0e95c1e6-2700-40a9-8b22-9b227edf5349",
   "metadata": {
    "tags": []
   },
   "outputs": [
    {
     "data": {
      "image/png": "[encoded data removed]",
      "text/plain": [
       "<Figure size 1400x500 with 1 Axes>"
      ]
     },
     "metadata": {},
     "output_type": "display_data"
    }
   ],
   "source": [
    "# гістограма\n",
    "\n",
    "plt.figure(figsize=(14,5))\n",
    "plt.bar(df['xi'].astype(str), df['ni'], align='center', alpha=0.5)\n",
    "plt.xlabel('xi')\n",
    "plt.ylabel('ni')\n",
    "plt.title('Гістограма вибірки')\n",
    "plt.show()"
   ]
  },
  {
   "cell_type": "code",
   "execution_count": 8,
   "id": "ccb40969-8049-47dd-8212-28348d4b98d2",
   "metadata": {
    "tags": []
   },
   "outputs": [],
   "source": [
    "# знайти ймовірності - нормальний зр\n",
    "\n",
    "def find_probabilities_normal(df, x_average, standart):\n",
    "    min_x = df['xi'][0][0]\n",
    "    max_x = df['xi'][len(df) - 1][1]\n",
    "    \n",
    "    def find_probability(row):\n",
    "        x = row['xi']\n",
    "        if x[0] == min_x:\n",
    "            return laplace_integral_function((x[1] - x_average) / standart) - laplace_integral_function(-np.inf)\n",
    "        \n",
    "        elif x[1] == max_x:\n",
    "            return laplace_integral_function(np.inf) - laplace_integral_function((x[0] - x_average) / standart)\n",
    "        \n",
    "        else:\n",
    "            return laplace_integral_function((x[1] - x_average) / standart) - laplace_integral_function((x[0] - x_average) / standart)\n",
    "        \n",
    "    df['pi'] = df.apply(find_probability, axis=1)\n",
    "\n",
    "    return df"
   ]
  },
  {
   "cell_type": "code",
   "execution_count": 9,
   "id": "9b1bbfb6-6bb8-4f79-a727-1b49c3de263b",
   "metadata": {
    "tags": []
   },
   "outputs": [],
   "source": [
    "# об'єднати класи, якщо не виконуються умови\n",
    "\n",
    "def combine_rows(df):\n",
    "    is_valid = False\n",
    "    \n",
    "    while not is_valid:\n",
    "        for i in range(df.shape[0]):\n",
    "            if df.iloc[i]['ni'] < 5 or df.iloc[i]['ni'] * df.iloc[i]['pi'] < 10:\n",
    "                is_valid = False\n",
    "                \n",
    "                if i == 0 or i <= df.shape[0]//2:   \n",
    "                    res1 = df.iloc[[i, i+1], :]\n",
    "                    res1['xi'] = ((res1['xi'].iloc[0][0], res1['xi'].iloc[1][1]), (res1['xi'].iloc[0][0], res1['xi'].iloc[1][1]))\n",
    "                    res1['ni'] = res1['ni'].sum()\n",
    "                    res1['pi'] = res1['pi'].sum()\n",
    "                    res1 = res1.drop_duplicates()\n",
    "\n",
    "                    df = pd.concat([df.drop([i, i+1], axis=0), res1]).reset_index(drop=True)\n",
    "                    df = df.sort_values(by='xi').reset_index(drop=True)\n",
    "\n",
    "                    break\n",
    "\n",
    "                else:\n",
    "                    res1 = df.iloc[[i-1, i], :]\n",
    "                    \n",
    "                    res1['xi'] = ((res1['xi'].iloc[0][0], res1['xi'].iloc[1][1]), (res1['xi'].iloc[0][0], res1['xi'].iloc[1][1]))\n",
    "                    res1['ni'] = res1['ni'].sum()\n",
    "                    res1['pi'] = res1['pi'].sum()\n",
    "                    res1 = res1.drop_duplicates()\n",
    "                    \n",
    "                    df = pd.concat([df.drop([i-1, i], axis=0), res1]).reset_index(drop=True)\n",
    "                    df = df.sort_values(by='xi').reset_index(drop=True)\n",
    "\n",
    "                    break\n",
    "            is_valid = True\n",
    "    return df"
   ]
  },
  {
   "cell_type": "code",
   "execution_count": 10,
   "id": "a459444c-693d-4f22-917a-29d5ceae5832",
   "metadata": {
    "tags": []
   },
   "outputs": [
    {
     "name": "stdout",
     "output_type": "stream",
     "text": [
      "Гіпотеза H0: закон розподілу нормальний\n"
     ]
    },
    {
     "name": "stdin",
     "output_type": "stream",
     "text": [
      "Вводити параметри вручну чи оцінити? (вручну / оцінити) оцінити\n",
      "Введіть рівень значущості:  0.05\n"
     ]
    },
    {
     "name": "stdout",
     "output_type": "stream",
     "text": [
      "\n",
      "Х середнє: 220.10971786833855, стандарт: 17.942181762487493\n",
      "\n",
      "Таблиця з обчисленими ймовірностями:\n"
     ]
    },
    {
     "data": {
      "text/html": [
       "<div>\n",
       "<style scoped>\n",
       "    .dataframe tbody tr th:only-of-type {\n",
       "        vertical-align: middle;\n",
       "    }\n",
       "\n",
       "    .dataframe tbody tr th {\n",
       "        vertical-align: top;\n",
       "    }\n",
       "\n",
       "    .dataframe thead th {\n",
       "        text-align: right;\n",
       "    }\n",
       "</style>\n",
       "<table border=\"1\" class=\"dataframe\">\n",
       "  <thead>\n",
       "    <tr style=\"text-align: right;\">\n",
       "      <th></th>\n",
       "      <th>xi</th>\n",
       "      <th>ni</th>\n",
       "      <th>zi</th>\n",
       "      <th>pi</th>\n",
       "    </tr>\n",
       "  </thead>\n",
       "  <tbody>\n",
       "    <tr>\n",
       "      <th>0</th>\n",
       "      <td>(170.0, 180.0)</td>\n",
       "      <td>4</td>\n",
       "      <td>175.0</td>\n",
       "      <td>0.012692</td>\n",
       "    </tr>\n",
       "    <tr>\n",
       "      <th>1</th>\n",
       "      <td>(180.0, 190.0)</td>\n",
       "      <td>7</td>\n",
       "      <td>185.0</td>\n",
       "      <td>0.033966</td>\n",
       "    </tr>\n",
       "    <tr>\n",
       "      <th>2</th>\n",
       "      <td>(190.0, 200.0)</td>\n",
       "      <td>28</td>\n",
       "      <td>195.0</td>\n",
       "      <td>0.084526</td>\n",
       "    </tr>\n",
       "    <tr>\n",
       "      <th>3</th>\n",
       "      <td>(200.0, 210.0)</td>\n",
       "      <td>56</td>\n",
       "      <td>205.0</td>\n",
       "      <td>0.155375</td>\n",
       "    </tr>\n",
       "    <tr>\n",
       "      <th>4</th>\n",
       "      <td>(210.0, 220.0)</td>\n",
       "      <td>70</td>\n",
       "      <td>215.0</td>\n",
       "      <td>0.211000</td>\n",
       "    </tr>\n",
       "    <tr>\n",
       "      <th>5</th>\n",
       "      <td>(220.0, 230.0)</td>\n",
       "      <td>60</td>\n",
       "      <td>225.0</td>\n",
       "      <td>0.211702</td>\n",
       "    </tr>\n",
       "    <tr>\n",
       "      <th>6</th>\n",
       "      <td>(230.0, 240.0)</td>\n",
       "      <td>52</td>\n",
       "      <td>235.0</td>\n",
       "      <td>0.156931</td>\n",
       "    </tr>\n",
       "    <tr>\n",
       "      <th>7</th>\n",
       "      <td>(240.0, 250.0)</td>\n",
       "      <td>26</td>\n",
       "      <td>245.0</td>\n",
       "      <td>0.085942</td>\n",
       "    </tr>\n",
       "    <tr>\n",
       "      <th>8</th>\n",
       "      <td>(250.0, 260.0)</td>\n",
       "      <td>10</td>\n",
       "      <td>255.0</td>\n",
       "      <td>0.034766</td>\n",
       "    </tr>\n",
       "    <tr>\n",
       "      <th>9</th>\n",
       "      <td>(260.0, 270.0)</td>\n",
       "      <td>6</td>\n",
       "      <td>265.0</td>\n",
       "      <td>0.013099</td>\n",
       "    </tr>\n",
       "  </tbody>\n",
       "</table>\n",
       "</div>"
      ],
      "text/plain": [
       "               xi  ni     zi        pi\n",
       "0  (170.0, 180.0)   4  175.0  0.012692\n",
       "1  (180.0, 190.0)   7  185.0  0.033966\n",
       "2  (190.0, 200.0)  28  195.0  0.084526\n",
       "3  (200.0, 210.0)  56  205.0  0.155375\n",
       "4  (210.0, 220.0)  70  215.0  0.211000\n",
       "5  (220.0, 230.0)  60  225.0  0.211702\n",
       "6  (230.0, 240.0)  52  235.0  0.156931\n",
       "7  (240.0, 250.0)  26  245.0  0.085942\n",
       "8  (250.0, 260.0)  10  255.0  0.034766\n",
       "9  (260.0, 270.0)   6  265.0  0.013099"
      ]
     },
     "execution_count": 10,
     "metadata": {},
     "output_type": "execute_result"
    }
   ],
   "source": [
    "print(\"Гіпотеза H0: закон розподілу нормальний\")\n",
    "\n",
    "param_check = input(\"Вводити параметри вручну чи оцінити? (вручну / оцінити)\")\n",
    "if(param_check == \"вручну\"):\n",
    "    x_avg = float(input(\"Введіть x середнє: \"))\n",
    "    stand = float(input(\"Введіть стандарт: \"))\n",
    "    d_f = 2\n",
    "else:\n",
    "    x_avg = x_average(df)\n",
    "    stand = get_standart(df)\n",
    "    d_f = 0\n",
    "\n",
    "alpha = float(input((\"Введіть рівень значущості: \")))\n",
    "\n",
    "print(f\"\\nХ середнє: {x_avg}, стандарт: {stand}\")\n",
    "\n",
    "df = find_probabilities_normal(df, x_avg, stand)\n",
    "print(\"\\nТаблиця з обчисленими ймовірностями:\")\n",
    "df"
   ]
  },
  {
   "cell_type": "code",
   "execution_count": 11,
   "id": "96773363-cbc9-4f91-b890-fd2bb4636615",
   "metadata": {},
   "outputs": [],
   "source": [
    "df = df.drop('zi', axis=1)"
   ]
  },
  {
   "cell_type": "code",
   "execution_count": 22,
   "id": "c5d341ae-09b0-4d54-b53d-097bf55886ba",
   "metadata": {
    "tags": []
   },
   "outputs": [
    {
     "name": "stdout",
     "output_type": "stream",
     "text": [
      "Таблиця після об'єднання класів:\n"
     ]
    },
    {
     "data": {
      "text/html": [
       "<div>\n",
       "<style scoped>\n",
       "    .dataframe tbody tr th:only-of-type {\n",
       "        vertical-align: middle;\n",
       "    }\n",
       "\n",
       "    .dataframe tbody tr th {\n",
       "        vertical-align: top;\n",
       "    }\n",
       "\n",
       "    .dataframe thead th {\n",
       "        text-align: right;\n",
       "    }\n",
       "</style>\n",
       "<table border=\"1\" class=\"dataframe\">\n",
       "  <thead>\n",
       "    <tr style=\"text-align: right;\">\n",
       "      <th></th>\n",
       "      <th>xi</th>\n",
       "      <th>ni</th>\n",
       "      <th>pi</th>\n",
       "    </tr>\n",
       "  </thead>\n",
       "  <tbody>\n",
       "    <tr>\n",
       "      <th>0</th>\n",
       "      <td>(170.0, 210.0)</td>\n",
       "      <td>95</td>\n",
       "      <td>0.286561</td>\n",
       "    </tr>\n",
       "    <tr>\n",
       "      <th>1</th>\n",
       "      <td>(210.0, 220.0)</td>\n",
       "      <td>70</td>\n",
       "      <td>0.211000</td>\n",
       "    </tr>\n",
       "    <tr>\n",
       "      <th>2</th>\n",
       "      <td>(220.0, 230.0)</td>\n",
       "      <td>60</td>\n",
       "      <td>0.211702</td>\n",
       "    </tr>\n",
       "    <tr>\n",
       "      <th>3</th>\n",
       "      <td>(230.0, 270.0)</td>\n",
       "      <td>94</td>\n",
       "      <td>0.290738</td>\n",
       "    </tr>\n",
       "  </tbody>\n",
       "</table>\n",
       "</div>"
      ],
      "text/plain": [
       "               xi  ni        pi\n",
       "0  (170.0, 210.0)  95  0.286561\n",
       "1  (210.0, 220.0)  70  0.211000\n",
       "2  (220.0, 230.0)  60  0.211702\n",
       "3  (230.0, 270.0)  94  0.290738"
      ]
     },
     "execution_count": 22,
     "metadata": {},
     "output_type": "execute_result"
    }
   ],
   "source": [
    "print(\"Таблиця після об'єднання класів:\")\n",
    "\n",
    "df = combine_rows(df)\n",
    "df"
   ]
  },
  {
   "cell_type": "code",
   "execution_count": 13,
   "id": "1f58cc18-5062-4998-a3b3-49944cbb72b9",
   "metadata": {
    "tags": []
   },
   "outputs": [
    {
     "name": "stdout",
     "output_type": "stream",
     "text": [
      "X2 емпіричне: 1.1055730457679123\n",
      "X2 критичне: 3.841458820694124\n",
      "Емпіричне < критичне - гіпотезу Н0 приймаємо\n"
     ]
    }
   ],
   "source": [
    "x2_emp = count_x2_empirical(df)\n",
    "print(f\"X2 емпіричне: {x2_emp}\")\n",
    "\n",
    "d_f += df.shape[0] -1 -2\n",
    "x2_crit = count_x2_critical(alpha, d_f)\n",
    "print(f\"X2 критичне: {x2_crit}\")\n",
    "\n",
    "if(x2_emp < x2_crit):\n",
    "    print(\"Емпіричне < критичне - гіпотезу Н0 приймаємо\")\n",
    "else:\n",
    "    print(\"Емпіричне > критичне - гіпотезу Н0 відхиляємо\")"
   ]
  },
  {
   "cell_type": "code",
   "execution_count": 14,
   "id": "2c3d4cd5-3671-4d1e-b98a-4f8d87b3f1df",
   "metadata": {},
   "outputs": [
    {
     "name": "stdout",
     "output_type": "stream",
     "text": [
      "Вибірка:\n"
     ]
    },
    {
     "data": {
      "text/html": [
       "<div>\n",
       "<style scoped>\n",
       "    .dataframe tbody tr th:only-of-type {\n",
       "        vertical-align: middle;\n",
       "    }\n",
       "\n",
       "    .dataframe tbody tr th {\n",
       "        vertical-align: top;\n",
       "    }\n",
       "\n",
       "    .dataframe thead th {\n",
       "        text-align: right;\n",
       "    }\n",
       "</style>\n",
       "<table border=\"1\" class=\"dataframe\">\n",
       "  <thead>\n",
       "    <tr style=\"text-align: right;\">\n",
       "      <th></th>\n",
       "      <th>xi</th>\n",
       "      <th>ni</th>\n",
       "      <th>zi</th>\n",
       "    </tr>\n",
       "  </thead>\n",
       "  <tbody>\n",
       "    <tr>\n",
       "      <th>0</th>\n",
       "      <td>(0.0, 6.0)</td>\n",
       "      <td>534</td>\n",
       "      <td>3.0</td>\n",
       "    </tr>\n",
       "    <tr>\n",
       "      <th>1</th>\n",
       "      <td>(6.0, 12.0)</td>\n",
       "      <td>384</td>\n",
       "      <td>9.0</td>\n",
       "    </tr>\n",
       "    <tr>\n",
       "      <th>2</th>\n",
       "      <td>(12.0, 18.0)</td>\n",
       "      <td>276</td>\n",
       "      <td>15.0</td>\n",
       "    </tr>\n",
       "    <tr>\n",
       "      <th>3</th>\n",
       "      <td>(18.0, 24.0)</td>\n",
       "      <td>211</td>\n",
       "      <td>21.0</td>\n",
       "    </tr>\n",
       "    <tr>\n",
       "      <th>4</th>\n",
       "      <td>(24.0, 30.0)</td>\n",
       "      <td>162</td>\n",
       "      <td>27.0</td>\n",
       "    </tr>\n",
       "    <tr>\n",
       "      <th>5</th>\n",
       "      <td>(30.0, 36.0)</td>\n",
       "      <td>116</td>\n",
       "      <td>33.0</td>\n",
       "    </tr>\n",
       "    <tr>\n",
       "      <th>6</th>\n",
       "      <td>(36.0, 42.0)</td>\n",
       "      <td>82</td>\n",
       "      <td>39.0</td>\n",
       "    </tr>\n",
       "    <tr>\n",
       "      <th>7</th>\n",
       "      <td>(42.0, 48.0)</td>\n",
       "      <td>63</td>\n",
       "      <td>45.0</td>\n",
       "    </tr>\n",
       "    <tr>\n",
       "      <th>8</th>\n",
       "      <td>(48.0, 54.0)</td>\n",
       "      <td>46</td>\n",
       "      <td>51.0</td>\n",
       "    </tr>\n",
       "    <tr>\n",
       "      <th>9</th>\n",
       "      <td>(54.0, 60.0)</td>\n",
       "      <td>34</td>\n",
       "      <td>57.0</td>\n",
       "    </tr>\n",
       "  </tbody>\n",
       "</table>\n",
       "</div>"
      ],
      "text/plain": [
       "             xi   ni    zi\n",
       "0    (0.0, 6.0)  534   3.0\n",
       "1   (6.0, 12.0)  384   9.0\n",
       "2  (12.0, 18.0)  276  15.0\n",
       "3  (18.0, 24.0)  211  21.0\n",
       "4  (24.0, 30.0)  162  27.0\n",
       "5  (30.0, 36.0)  116  33.0\n",
       "6  (36.0, 42.0)   82  39.0\n",
       "7  (42.0, 48.0)   63  45.0\n",
       "8  (48.0, 54.0)   46  51.0\n",
       "9  (54.0, 60.0)   34  57.0"
      ]
     },
     "execution_count": 14,
     "metadata": {},
     "output_type": "execute_result"
    }
   ],
   "source": [
    "# Задача 2\n",
    "\n",
    "df2 = pd.read_csv('task2.csv')\n",
    "df2.iloc[:, 0] = df2.iloc[:, 0].apply(parse_interval)\n",
    "\n",
    "print(\"Вибірка:\")\n",
    "df2 = count_zi(df2)\n",
    "df2"
   ]
  },
  {
   "cell_type": "code",
   "execution_count": 15,
   "id": "4ad6f293-1f62-4f72-8962-34b30a5a47ba",
   "metadata": {
    "tags": []
   },
   "outputs": [
    {
     "data": {
      "image/png": "[encoded data removed]",
      "text/plain": [
       "<Figure size 1400x500 with 1 Axes>"
      ]
     },
     "metadata": {},
     "output_type": "display_data"
    }
   ],
   "source": [
    "# гістограма\n",
    "\n",
    "plt.figure(figsize=(14,5))\n",
    "plt.bar(df2['xi'].astype(str), df2['ni'], align='center', alpha=0.5)\n",
    "plt.xlabel('xi')\n",
    "plt.ylabel('ni')\n",
    "plt.title('Гістограма вибірки')\n",
    "plt.show()"
   ]
  },
  {
   "cell_type": "code",
   "execution_count": 16,
   "id": "50a1e644-47a1-408f-bb27-8116bc7830f0",
   "metadata": {
    "tags": []
   },
   "outputs": [],
   "source": [
    "def F_exp(x, lamb):\n",
    "        return 1 - np.exp(-lamb * x)"
   ]
  },
  {
   "cell_type": "code",
   "execution_count": 17,
   "id": "267ae139-673a-4596-a2a5-750d5270c53e",
   "metadata": {
    "tags": []
   },
   "outputs": [],
   "source": [
    "# знайти ймовірності - експонентний зр\n",
    "\n",
    "def find_probabilities_exponential(df, lamb):\n",
    "    max_x = df['xi'][len(df) - 1][1] # 60\n",
    "    \n",
    "    def find_probability_exp(row):\n",
    "        x = row['xi']\n",
    "        \n",
    "        if(x[1] == max_x):\n",
    "            return 0\n",
    "        else:\n",
    "            return F_exp(x[1], lamb) - F_exp(x[0], lamb)\n",
    "            \n",
    "    \n",
    "    df['pi'] = df.apply(find_probability_exp, axis=1)\n",
    "    \n",
    "    last_value = 1 - df.iloc[:-1]['pi'].sum()\n",
    "    df.iloc[-1, 3] = last_value\n",
    "    \n",
    "    return df"
   ]
  },
  {
   "cell_type": "code",
   "execution_count": 18,
   "id": "b295b6d2-177b-4dd1-9ddb-4ce9167e9a31",
   "metadata": {
    "tags": []
   },
   "outputs": [
    {
     "name": "stdout",
     "output_type": "stream",
     "text": [
      "Гіпотеза H0: закон розподілу експонентний\n"
     ]
    },
    {
     "name": "stdin",
     "output_type": "stream",
     "text": [
      "Вводити параметри вручну чи оцінити? (вручну / оцінити) оцінити\n",
      "Введіть рівень значущості:  0.03\n"
     ]
    },
    {
     "name": "stdout",
     "output_type": "stream",
     "text": [
      "\n",
      "Лямбда: 0.0593505039193729\n",
      "\n",
      "Таблиця з обчисленими ймовірностями:\n"
     ]
    },
    {
     "data": {
      "text/html": [
       "<div>\n",
       "<style scoped>\n",
       "    .dataframe tbody tr th:only-of-type {\n",
       "        vertical-align: middle;\n",
       "    }\n",
       "\n",
       "    .dataframe tbody tr th {\n",
       "        vertical-align: top;\n",
       "    }\n",
       "\n",
       "    .dataframe thead th {\n",
       "        text-align: right;\n",
       "    }\n",
       "</style>\n",
       "<table border=\"1\" class=\"dataframe\">\n",
       "  <thead>\n",
       "    <tr style=\"text-align: right;\">\n",
       "      <th></th>\n",
       "      <th>xi</th>\n",
       "      <th>ni</th>\n",
       "      <th>zi</th>\n",
       "      <th>pi</th>\n",
       "    </tr>\n",
       "  </thead>\n",
       "  <tbody>\n",
       "    <tr>\n",
       "      <th>0</th>\n",
       "      <td>(0.0, 6.0)</td>\n",
       "      <td>534</td>\n",
       "      <td>3.0</td>\n",
       "      <td>0.299600</td>\n",
       "    </tr>\n",
       "    <tr>\n",
       "      <th>1</th>\n",
       "      <td>(6.0, 12.0)</td>\n",
       "      <td>384</td>\n",
       "      <td>9.0</td>\n",
       "      <td>0.209840</td>\n",
       "    </tr>\n",
       "    <tr>\n",
       "      <th>2</th>\n",
       "      <td>(12.0, 18.0)</td>\n",
       "      <td>276</td>\n",
       "      <td>15.0</td>\n",
       "      <td>0.146972</td>\n",
       "    </tr>\n",
       "    <tr>\n",
       "      <th>3</th>\n",
       "      <td>(18.0, 24.0)</td>\n",
       "      <td>211</td>\n",
       "      <td>21.0</td>\n",
       "      <td>0.102939</td>\n",
       "    </tr>\n",
       "    <tr>\n",
       "      <th>4</th>\n",
       "      <td>(24.0, 30.0)</td>\n",
       "      <td>162</td>\n",
       "      <td>27.0</td>\n",
       "      <td>0.072099</td>\n",
       "    </tr>\n",
       "    <tr>\n",
       "      <th>5</th>\n",
       "      <td>(30.0, 36.0)</td>\n",
       "      <td>116</td>\n",
       "      <td>33.0</td>\n",
       "      <td>0.050498</td>\n",
       "    </tr>\n",
       "    <tr>\n",
       "      <th>6</th>\n",
       "      <td>(36.0, 42.0)</td>\n",
       "      <td>82</td>\n",
       "      <td>39.0</td>\n",
       "      <td>0.035369</td>\n",
       "    </tr>\n",
       "    <tr>\n",
       "      <th>7</th>\n",
       "      <td>(42.0, 48.0)</td>\n",
       "      <td>63</td>\n",
       "      <td>45.0</td>\n",
       "      <td>0.024772</td>\n",
       "    </tr>\n",
       "    <tr>\n",
       "      <th>8</th>\n",
       "      <td>(48.0, 54.0)</td>\n",
       "      <td>46</td>\n",
       "      <td>51.0</td>\n",
       "      <td>0.017351</td>\n",
       "    </tr>\n",
       "    <tr>\n",
       "      <th>9</th>\n",
       "      <td>(54.0, 60.0)</td>\n",
       "      <td>34</td>\n",
       "      <td>57.0</td>\n",
       "      <td>0.040562</td>\n",
       "    </tr>\n",
       "  </tbody>\n",
       "</table>\n",
       "</div>"
      ],
      "text/plain": [
       "             xi   ni    zi        pi\n",
       "0    (0.0, 6.0)  534   3.0  0.299600\n",
       "1   (6.0, 12.0)  384   9.0  0.209840\n",
       "2  (12.0, 18.0)  276  15.0  0.146972\n",
       "3  (18.0, 24.0)  211  21.0  0.102939\n",
       "4  (24.0, 30.0)  162  27.0  0.072099\n",
       "5  (30.0, 36.0)  116  33.0  0.050498\n",
       "6  (36.0, 42.0)   82  39.0  0.035369\n",
       "7  (42.0, 48.0)   63  45.0  0.024772\n",
       "8  (48.0, 54.0)   46  51.0  0.017351\n",
       "9  (54.0, 60.0)   34  57.0  0.040562"
      ]
     },
     "execution_count": 18,
     "metadata": {},
     "output_type": "execute_result"
    }
   ],
   "source": [
    "print(\"Гіпотеза H0: закон розподілу експонентний\")\n",
    "\n",
    "param_check_exp = input(\"Вводити параметри вручну чи оцінити? (вручну / оцінити)\")\n",
    "if(param_check_exp == \"вручну\"):\n",
    "    lamb = float(input(\"Введіть лямбду: \"))\n",
    "    d_f_exp = 1\n",
    "else:\n",
    "    lamb = get_lambda(df2)\n",
    "    d_f_exp = 0\n",
    "\n",
    "alpha_exp = float(input((\"Введіть рівень значущості: \")))\n",
    "\n",
    "print(f\"\\nЛямбда: {lamb}\")\n",
    "\n",
    "df2 = find_probabilities_exponential(df2, lamb)\n",
    "print(\"\\nТаблиця з обчисленими ймовірностями:\")\n",
    "df2"
   ]
  },
  {
   "cell_type": "code",
   "execution_count": 19,
   "id": "cbe1ab21-95c5-44c5-bb09-235b5e6c7206",
   "metadata": {
    "tags": []
   },
   "outputs": [],
   "source": [
    "df2 = df2.drop('zi', axis=1)"
   ]
  },
  {
   "cell_type": "code",
   "execution_count": 23,
   "id": "3181bfde-5368-4da8-8b64-4acb42ab4cba",
   "metadata": {
    "tags": []
   },
   "outputs": [
    {
     "name": "stdout",
     "output_type": "stream",
     "text": [
      "Таблиця після об'єднання класів:\n"
     ]
    },
    {
     "data": {
      "text/html": [
       "<div>\n",
       "<style scoped>\n",
       "    .dataframe tbody tr th:only-of-type {\n",
       "        vertical-align: middle;\n",
       "    }\n",
       "\n",
       "    .dataframe tbody tr th {\n",
       "        vertical-align: top;\n",
       "    }\n",
       "\n",
       "    .dataframe thead th {\n",
       "        text-align: right;\n",
       "    }\n",
       "</style>\n",
       "<table border=\"1\" class=\"dataframe\">\n",
       "  <thead>\n",
       "    <tr style=\"text-align: right;\">\n",
       "      <th></th>\n",
       "      <th>xi</th>\n",
       "      <th>ni</th>\n",
       "      <th>pi</th>\n",
       "    </tr>\n",
       "  </thead>\n",
       "  <tbody>\n",
       "    <tr>\n",
       "      <th>0</th>\n",
       "      <td>(0.0, 6.0)</td>\n",
       "      <td>534</td>\n",
       "      <td>0.299600</td>\n",
       "    </tr>\n",
       "    <tr>\n",
       "      <th>1</th>\n",
       "      <td>(6.0, 12.0)</td>\n",
       "      <td>384</td>\n",
       "      <td>0.209840</td>\n",
       "    </tr>\n",
       "    <tr>\n",
       "      <th>2</th>\n",
       "      <td>(12.0, 18.0)</td>\n",
       "      <td>276</td>\n",
       "      <td>0.146972</td>\n",
       "    </tr>\n",
       "    <tr>\n",
       "      <th>3</th>\n",
       "      <td>(18.0, 24.0)</td>\n",
       "      <td>211</td>\n",
       "      <td>0.102939</td>\n",
       "    </tr>\n",
       "    <tr>\n",
       "      <th>4</th>\n",
       "      <td>(24.0, 30.0)</td>\n",
       "      <td>162</td>\n",
       "      <td>0.072099</td>\n",
       "    </tr>\n",
       "    <tr>\n",
       "      <th>5</th>\n",
       "      <td>(30.0, 60.0)</td>\n",
       "      <td>341</td>\n",
       "      <td>0.168551</td>\n",
       "    </tr>\n",
       "  </tbody>\n",
       "</table>\n",
       "</div>"
      ],
      "text/plain": [
       "             xi   ni        pi\n",
       "0    (0.0, 6.0)  534  0.299600\n",
       "1   (6.0, 12.0)  384  0.209840\n",
       "2  (12.0, 18.0)  276  0.146972\n",
       "3  (18.0, 24.0)  211  0.102939\n",
       "4  (24.0, 30.0)  162  0.072099\n",
       "5  (30.0, 60.0)  341  0.168551"
      ]
     },
     "execution_count": 23,
     "metadata": {},
     "output_type": "execute_result"
    }
   ],
   "source": [
    "print(\"Таблиця після об'єднання класів:\")\n",
    "\n",
    "df2 = combine_rows(df2)\n",
    "df2"
   ]
  },
  {
   "cell_type": "code",
   "execution_count": 21,
   "id": "3f8b6d21-801d-4e42-804d-e6db9dcfc777",
   "metadata": {
    "tags": []
   },
   "outputs": [
    {
     "name": "stdout",
     "output_type": "stream",
     "text": [
      "X2 емпіричне: 9.812818484315112\n",
      "X2 критичне: 10.711898289670378\n",
      "Емпіричне < критичне - гіпотезу Н0 приймаємо\n"
     ]
    }
   ],
   "source": [
    "x2_emp_exp = count_x2_empirical(df2)\n",
    "print(f\"X2 емпіричне: {x2_emp_exp}\")\n",
    "\n",
    "d_f_exp += df2.shape[0] -1 -1\n",
    "x2_crit_exp = count_x2_critical(alpha_exp, d_f_exp)\n",
    "print(f\"X2 критичне: {x2_crit_exp}\")\n",
    "\n",
    "if(x2_emp_exp < x2_crit_exp):\n",
    "    print(\"Емпіричне < критичне - гіпотезу Н0 приймаємо\")\n",
    "else:\n",
    "    print(\"Емпіричне > критичне - гіпотезу Н0 відхиляємо\")"
   ]
  },
  {
   "cell_type": "code",
   "execution_count": null,
   "id": "6c684126-66ff-4203-8901-e0b92218a193",
   "metadata": {},
   "outputs": [],
   "source": []
  }
 ],
 "metadata": {
  "kernelspec": {
   "display_name": "Python 3 (ipykernel)",
   "language": "python",
   "name": "python3"
  },
  "language_info": {
   "codemirror_mode": {
    "name": "ipython",
    "version": 3
   },
   "file_extension": ".py",
   "mimetype": "text/x-python",
   "name": "python",
   "nbconvert_exporter": "python",
   "pygments_lexer": "ipython3",
   "version": "3.11.5"
  }
 },
 "nbformat": 4,
 "nbformat_minor": 5
}
